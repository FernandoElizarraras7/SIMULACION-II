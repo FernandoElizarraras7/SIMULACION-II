{
  "nbformat": 4,
  "nbformat_minor": 0,
  "metadata": {
    "colab": {
      "provenance": [],
      "authorship_tag": "ABX9TyO1JCFDLD5iaFnghhE5h3rU",
      "include_colab_link": true
    },
    "kernelspec": {
      "name": "python3",
      "display_name": "Python 3"
    },
    "language_info": {
      "name": "python"
    }
  },
  "cells": [
    {
      "cell_type": "markdown",
      "metadata": {
        "id": "view-in-github",
        "colab_type": "text"
      },
      "source": [
        "<a href=\"https://colab.research.google.com/github/FernandoElizarraras7/SIMULACION-II/blob/main/VARIABLES_ANTITETICAS.ipynb\" target=\"_parent\"><img src=\"https://colab.research.google.com/assets/colab-badge.svg\" alt=\"Open In Colab\"/></a>"
      ]
    },
    {
      "cell_type": "markdown",
      "source": [
        "# REDUCCION DE VARIANZA POR VARIABLES ANTITETICAS\n",
        "La idea básica es generar muestras en pares correlacionados negativamente para reducir la varianza del estimador.\n",
        "\n",
        "Para la integral con $x \\sim U(0,1)$ y función $f(x)$:\n",
        "- Generamos $u_i \\sim U(0,1)$ y su antitético $1-u_i$.\n",
        "- Formamos la media por par:\n",
        "$$Z_i = \\tfrac{1}{2}\\big[f(u_i) + f(1-u_i)\\big]$$\n",
        "- El estimador con antitéticas es:\n",
        "$$\\hat I_{\\text{anti}} = \\frac{1}{m} \\sum_{i=1}^m Z_i$$\n",
        "donde $N = 2m$ es el total de simulaciones ordinarias equivalentes en comparación.\n",
        "- La varianza del estimador con antitéticas es:\n",
        "$$\\mathrm{Var} (\\hat I_{\\text{anti}}) = \\frac{\\mathrm{Var}(Z)}{m}$$\n",
        "- Porcentaje de reducción de la varianza (relativo al Mc crudo):\n",
        "$$\\text{Reducción (%)} = 100 \\cdot \\frac{\\mathrm{Var}(\\hat I_{\\text{crudo}}) - \\mathrm{Var}(\\hat I_{\\text{anti}})}{\\mathrm{Var}(\\hat I_{\\text{crudo}})}$$\n"
      ],
      "metadata": {
        "id": "AFKNWYvkdDD3"
      }
    },
    {
      "cell_type": "code",
      "source": [
        "# MC Crudo vs MC con Variables Antitéticas\n",
        "\n",
        "import numpy as np\n",
        "import time\n",
        "\n",
        "# Se fija semilla para reproducibilidad\n",
        "np.random.seed(1000)\n",
        "\n",
        "# Se define la función a integrar\n",
        "def f(x):\n",
        "  return np.sqrt(np.arctan(x))\n",
        "\n",
        "# Número total de muestras (se asegura que sea par)\n",
        "N = 10**5\n",
        "if N % 2 != 0:\n",
        "  N += 1\n",
        "\n",
        "# === Monte Carlo Crudo ===\n",
        "t1_start = time.time()\n",
        "\n",
        "x = np.random.rand(N)  # Muestras en [0,1]\n",
        "fx = f(x)  # Se evalúa en f(x)\n",
        "I_crudo = np.mean(fx)  # Promedio\n",
        "Var_crudo = np.var(fx, ddof=1) / N  # Varianza del estimador\n",
        "Std_crudo = np.sqrt(Var_crudo)  # Desviación estándar\n",
        "\n",
        "t1_end = time.time()\n",
        "t1 = t1_end - t1_start\n",
        "\n",
        "print(\"=== Método Crudo ===\")\n",
        "print(f\"Estimación Integral = {I_crudo:.6f}\")\n",
        "print(f\"Varianza = {Var_crudo:.6e}\")\n",
        "print()\n",
        "\n",
        "# === Monte Carlo con Variables Antitéticas ===\n",
        "t2_star = time.time()\n",
        "\n",
        "m = N // 2 # Número de pares\n",
        "u = np.random.rand(m) # Mitad de muestras\n",
        "u_bar = 1 - u # Antitéticas\n",
        "\n",
        "# Promedio por par\n",
        "z_pairs = 0.5 * (f(u) + f(u_bar))\n",
        "\n",
        "I_anti = np.mean(z_pairs) # Estimador antitético\n",
        "Var_anti = np.var(z_pairs, ddof=1) / m # Varianza del estimador\n",
        "\n",
        "t2_end = time.time()\n",
        "t2 = t2_end - t2_star\n",
        "\n",
        "print(\"=== Método con Variables Antitéticas ===\")\n",
        "print(f\"Estimación Integral = {I_anti:.6f}\")\n",
        "print(f\"Varianza = {Var_anti:.6e}\")\n",
        "print()\n",
        "\n",
        "# === Comparación ===\n",
        "reduction_pct = 100 * (Var_crudo - Var_anti) / Var_crudo\n",
        "print(\"=== Comparación ===\")\n",
        "print(f\"Reducción relativa de varianza = {reduction_pct:.2f} %\")"
      ],
      "metadata": {
        "colab": {
          "base_uri": "https://localhost:8080/"
        },
        "id": "ZzyaVqWyhXeh",
        "outputId": "bc6b5383-767a-4a81-c2dd-c789258f77aa"
      },
      "execution_count": 7,
      "outputs": [
        {
          "output_type": "stream",
          "name": "stdout",
          "text": [
            "=== Método Crudo ===\n",
            "Estimación Integral = 0.630305\n",
            "Varianza = 4.202387e-07\n",
            "\n",
            "=== Método con Variables Antitéticas ===\n",
            "Estimación Integral = 0.630084\n",
            "Varianza = 5.547902e-08\n",
            "\n",
            "=== Comparación ===\n",
            "Reducción relativa de varianza = 86.80 %\n"
          ]
        }
      ]
    },
    {
      "cell_type": "markdown",
      "source": [
        "## Observaciones sobre la reducción obtenida (86.8%)\n",
        "\n",
        "- La técnica de variables antitéticas produjo una reducción relativa de la varianza del 86.8%, lo cual es una mejora significativa.\n",
        "- Esto se explica porque la función $f(x)=\\sqrt{\\arctan(x)}$ es monótona creciente en $[0,1]$. Las parejas $u$ y $1-u$ generan valores fuertemente anticorrelados de $f$, y al promediar por par se atenúan las fluctuaciones.\n",
        "- Se recomienda verificar la estabilidad del resultado repitiendo la simulación con distintas semillas (por ejemplo 50–200 repeticiones). Además es útil calcular la correlación muestral entre $f(u)$ y $f(1-u)$ como prueba de la causa de la reducción.\n",
        "- La aplicación de antitéticas al método MC Acierto y Error es teóricamente factible pero su eficacia no está garantizada debido a la naturaleza discreta del estimador; conviene evaluarlo empíricamente.\n",
        "\n",
        "En conclusión, la técnica de variables antitéticas es altamente recomendable para integrales de funciones monótonas como la trabajada, pues permite alcanzar la misma precisión con una fracción de las simulaciones necesarias."
      ],
      "metadata": {
        "id": "saGoM3Vvn5ph"
      }
    },
    {
      "cell_type": "code",
      "source": [
        "# Monte Carlo Acierto y Error\n",
        "t3_start = time.time()\n",
        "\n",
        "#Máximo de la función en [0,1]\n",
        "x_grid = np.linspace(0,1,10000)\n",
        "f_max = np.max(f(x_grid))\n",
        "\n",
        "# Generar puntos aleatorios\n",
        "x_rand = np.random.rand(N)\n",
        "y_rand = np.random.rand(N) * f_max\n",
        "\n",
        "# Contar cuántos puntos caen debajo de la curva\n",
        "hits = (y_rand <= f(x_rand)).astype(float)\n",
        "\n",
        "I_hitmiss = np.mean(hits) * f_max # Estimación de la integral\n",
        "Var_hitmiss = p*(1-p)*(f_max**2) / N # Varianza\n",
        "\n",
        "t3_end = time.time()\n",
        "t3 = t3_end - t3_start\n",
        "\n",
        "print(\"=== Método Acierto y Error ===\")\n",
        "print(f\"Estimación Integral = {I_hitmiss:.6f}\")\n",
        "print(f\"Varianza = {Var_hitmiss:.6e}\")\n",
        "print()\n",
        "\n",
        "# Monte Carlo Acierto y Error con Variables Antitéticas\n",
        "t4_start = time.time()\n",
        "\n",
        "# Se usan N pares, se divide entre 2\n",
        "M = N // 2\n",
        "\n",
        "# Se generan puntos uniformes en [0,1] y sus antitéticos\n",
        "u = np.random.rand(M)\n",
        "u_bar = 1 - u\n",
        "v = np.random.rand(M)\n",
        "v_bar = 1 - v\n",
        "\n",
        "x1, x2 = u, u_bar\n",
        "y1, y2 = v * f_max, v_bar * f_max\n",
        "\n",
        "# Contar aciertos en cada par\n",
        "hits1 = (y1 <= f(x1)).astype(float)\n",
        "hits2 = (y2 <= f(x2)).astype(float)\n",
        "\n",
        "# Promediar aciertos en cada par (antitéticas)\n",
        "hits_pairs = 0.5 * (hits1 + hits2)\n",
        "\n",
        "I_hitmiss_anti = np.mean(hits_pairs) * f_max # Estimación de la integral\n",
        "Var_hitmiss_anti = np.var(hits_pairs * f_max, ddof=1) / M # Varianza del estimador\n",
        "\n",
        "t4_end = time.time()\n",
        "t4 = t4_end - t4_start\n",
        "\n",
        "print(\"=== Método Acierto y Error con Variables Antitéticas ===\")\n",
        "print(f\"Estimación Integral = {I_hitmiss_anti:.6f}\")\n",
        "print(f\"Varianza = {Var_hitmiss_anti:.6e}\")\n",
        "print()\n",
        "\n",
        "#=== Comparación ===\n",
        "reduction_pct = 100 * (Var_hitmiss - Var_hitmiss_anti) / Var_hitmiss\n",
        "print(\"=== Comparación ===\")\n",
        "print(f\"Reducción relativa de varianza = {reduction_pct:.2f} %\")"
      ],
      "metadata": {
        "colab": {
          "base_uri": "https://localhost:8080/"
        },
        "id": "gDM_ZPB6pxN6",
        "outputId": "99b10a83-89a2-44f7-8b31-e9b41e0c3eeb"
      },
      "execution_count": 12,
      "outputs": [
        {
          "output_type": "stream",
          "name": "stdout",
          "text": [
            "=== Método Acierto y Error ===\n",
            "Estimación Integral = 0.630258\n",
            "Varianza = 1.612335e-06\n",
            "\n",
            "=== Método Acierto y Error con Variables Antitéticas ===\n",
            "Estimación Integral = 0.629230\n",
            "Varianza = 9.566467e-07\n",
            "\n",
            "=== Comparación ===\n",
            "Reducción relativa de varianza = 40.67 %\n"
          ]
        }
      ]
    },
    {
      "cell_type": "markdown",
      "source": [
        "# CONCLUSIONES\n",
        "- MC Crudo resultó más eficiente y estable que Acierto y Error para el mismo tamaño de muestra.  \n",
        "- La técnica de variables antitéticas redujo significativamente la varianza: ~86.8% en MC Crudo y ~40.7% en Acierto y Error.  \n",
        "- La técnica de variables antitéticas es especialmente eficaz para funciones continuas y monotónicas, ya que permite disminuir notablemente la varianza con la misma cantidad de muestras.\n",
        "- En estimadores discretos como Acierto y Error, la reducción es moderada y depende de la correlación entre los indicadores. Se recomienda evaluar empíricamente la reducción de varianza antes de asumir mejoras significativas.\n"
      ],
      "metadata": {
        "id": "tdaDaVaywIme"
      }
    }
  ]
}
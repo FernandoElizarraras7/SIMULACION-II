{
  "nbformat": 4,
  "nbformat_minor": 0,
  "metadata": {
    "colab": {
      "provenance": [],
      "authorship_tag": "ABX9TyM6gRV/1vW34C8qNANvWFik",
      "include_colab_link": true
    },
    "kernelspec": {
      "name": "python3",
      "display_name": "Python 3"
    },
    "language_info": {
      "name": "python"
    }
  },
  "cells": [
    {
      "cell_type": "markdown",
      "metadata": {
        "id": "view-in-github",
        "colab_type": "text"
      },
      "source": [
        "<a href=\"https://colab.research.google.com/github/FernandoElizarraras7/SIMULACION-II/blob/main/COMPARACION_MC.ipynb\" target=\"_parent\"><img src=\"https://colab.research.google.com/assets/colab-badge.svg\" alt=\"Open In Colab\"/></a>"
      ]
    },
    {
      "cell_type": "markdown",
      "source": [
        "# ESTIMACION DE LA INTEGRAL CON METODOS MONTE CARLO\n",
        "La integral  a resolver es:\n",
        "$$I = \\int_0^1 \\sqrt{arctan(x)}\\ dx $$\n",
        "\n",
        "## METODO MONTE CARLO CRUDO (DIRECTO)\n",
        "\n",
        "El método crudo consiste en generar puntos aleatorios $x_i \\sim U(0,1)$ y evaluar la función en dichos puntos.\n",
        "\n",
        "La integral se aproxima como:\n",
        "$$I \\approx \\frac{1}{N} \\sum_{i=1}^N f(x_i)$$\n",
        "\n",
        "donde\n",
        "$$f(x) = \\sqrt{arctan(x)}$$\n",
        "\n",
        "La varianza del estimador es:\n",
        "$$\\mathrm{Var}(\\theta_{\\text{crudo}}) = \\frac{\\mathrm{Var}[f(x)]}{N}$$\n",
        "\n",
        "\n",
        "\n"
      ],
      "metadata": {
        "id": "pQkiz3UfvAbp"
      }
    },
    {
      "cell_type": "code",
      "execution_count": 4,
      "metadata": {
        "id": "JdeuElEYuvam",
        "colab": {
          "base_uri": "https://localhost:8080/"
        },
        "outputId": "a9b0fb20-e139-4248-a491-a8cdd4f2ab57"
      },
      "outputs": [
        {
          "output_type": "stream",
          "name": "stdout",
          "text": [
            "=== Método Crudo ===\n",
            "Estimación Integral = 0.628915\n",
            "Varianza = 4.230172e-07\n",
            "Desviación Estándar = 6.503977e-04\n",
            "Tiempo de ejecución = 0.009783 s\n"
          ]
        }
      ],
      "source": [
        "import numpy as np\n",
        "import time\n",
        "\n",
        "#Se define la función\n",
        "def f(x):\n",
        "  return np.sqrt(np.arctan(x))\n",
        "\n",
        "#Número de muestras\n",
        "N = 10**5\n",
        "\n",
        "#Monte Carlo Crudo\n",
        "t1_start = time.time()\n",
        "\n",
        "x = np.random.rand(N)  #Muestras en [0,1]\n",
        "fx = f(x)  #Se evalúa en f(x)\n",
        "I_crudo = np.mean(fx)  #Promedio\n",
        "Var_crudo = np.var(fx, ddof=1) / N  #Varianza del estimador\n",
        "Std_crudo = np.sqrt(Var_crudo)  #Desviación estándar\n",
        "\n",
        "t1_end = time.time()\n",
        "t1 = t1_end - t1_start\n",
        "\n",
        "print(\"=== Método Crudo ===\")\n",
        "print(f\"Estimación Integral = {I_crudo:.6f}\")\n",
        "print(f\"Varianza = {Var_crudo:.6e}\")\n",
        "print(f\"Desviación Estándar = {Std_crudo:.6e}\")\n",
        "print(f\"Tiempo de ejecución = {t1:.6f} s\")"
      ]
    },
    {
      "cell_type": "markdown",
      "source": [
        "## METODO MONTE CARLO ACIERTO Y ERROR (HIT-OR-MISS)\n",
        "Este método genera puntos dentro de un rectángulo que encierra la curva.\n",
        "\n",
        "Sea:\n",
        "$$x\\sim U(0,1), \\quad y \\sim U(0,f_{\\max})$$\n",
        "\n",
        "donde\n",
        "$$f_{\\max} = \\max_{x \\in [0,1]} f(x)$$\n",
        "\n",
        "Si un punto cumple $y\\leq f(x)$, se considera un **acierto**.\n",
        "\n",
        "El valor de la integral se estima como:\n",
        "$$I\\approx \\frac{\\# \\space \\text{de aciertos}}{N} \\cdot (1 \\cdot f_{\\max})$$\n",
        "La varianza del estimador es:\n",
        "$$\\mathrm{Var}(\\theta_{\\text{hit}}) = \\frac{p(1-p)}{N} \\cdot f_{\\max}^2$$\n",
        "\n",
        "donde $p = \\mathbb{P} [y \\leq f(x)]$\n",
        "\n",
        "\n",
        "\n"
      ],
      "metadata": {
        "id": "uvNgXYY02YVr"
      }
    },
    {
      "cell_type": "code",
      "source": [
        "# Monte Carlo Acierto y Error\n",
        "t2_start = time.time()\n",
        "\n",
        "#Máximo de la función en [0,1]\n",
        "x_grid = np.linspace(0,1,10000)\n",
        "f_max = np.max(f(x_grid))\n",
        "\n",
        "# Generar puntos aleatorios\n",
        "x_rand = np.random.rand(N)\n",
        "y_rand = np.random.rand(N) * f_max\n",
        "\n",
        "# Contar cuántos puntos caen debajo de la curva\n",
        "hits = y_rand <= f(x_rand)\n",
        "\n",
        "I_hitmiss = np.mean(hits) * f_max # Estimación de la integral\n",
        "p = np.mean(hits) # Varianza del estimador\n",
        "Var_hitmiss = p*(1-p)*(f_max**2) / N # Varianza\n",
        "Std_hitmiss = np.sqrt(Var_hitmiss) # Desviación estándar\n",
        "\n",
        "t2_end = time.time()\n",
        "t2 = t2_end - t2_start\n",
        "\n",
        "print(\"=== Método Acierto y Error ===\")\n",
        "print(f\"Estimación Integral = {I_hitmiss:.6f}\")\n",
        "print(f\"Varianza = {Var_hitmiss:.6e}\")\n",
        "print(f\"Desviación Estándar = {Std_hitmiss:.6e}\")\n",
        "print(f\"Tiempo de ejecución = {t2:.6f} s\")"
      ],
      "metadata": {
        "colab": {
          "base_uri": "https://localhost:8080/"
        },
        "id": "bY5fw3TQ5t55",
        "outputId": "b17e2400-73d2-4719-9eb0-4d7424fc75e7"
      },
      "execution_count": 5,
      "outputs": [
        {
          "output_type": "stream",
          "name": "stdout",
          "text": [
            "=== Método Acierto y Error ===\n",
            "Estimación Integral = 0.628353\n",
            "Varianza = 1.620360e-06\n",
            "Desviación Estándar = 1.272934e-03\n",
            "Tiempo de ejecución = 0.010256 s\n"
          ]
        }
      ]
    },
    {
      "cell_type": "markdown",
      "source": [
        "## COMPARACION DE METODOS Y EFICIENCIA\n",
        "La eficiencia se define como:\n",
        "$$E = \\frac{t_1 \\cdot \\mathrm{Var}(\\theta_1)}{t_2 \\cdot \\mathrm{Var}(\\theta_2)}$$\n",
        "donde:\n",
        "\n",
        "- $t_1 \\mathrm{Var}(\\theta_1)$ corresponden al **Método Crudo**\n",
        "- $t_2 \\mathrm{Var}(\\theta_2)$ corresponden al **Método Acierto y Error**\n",
        "\n"
      ],
      "metadata": {
        "id": "GUsyN1Ca8wZL"
      }
    },
    {
      "cell_type": "code",
      "source": [
        "# Eficiencia\n",
        "\n",
        "E = (t1 * Var_crudo) / (t2 * Var_hitmiss)\n",
        "print(\"=== Comparación ===\")\n",
        "print(f\"Integral Crudo = {I_crudo:.6f}\")\n",
        "print(f\"Integral Acierto y Error = {I_hitmiss:.6f}\")\n",
        "print()\n",
        "print(f\"Eficiencia = {E:.6f}\")"
      ],
      "metadata": {
        "colab": {
          "base_uri": "https://localhost:8080/"
        },
        "id": "cd7ju48G-A2P",
        "outputId": "ae62ea6f-2461-4fd0-ed7b-e43dd2e86158"
      },
      "execution_count": 3,
      "outputs": [
        {
          "output_type": "stream",
          "name": "stdout",
          "text": [
            "=== Comparación ===\n",
            "Integral Crudo = 0.629123\n",
            "Integral Acierto y Error = 0.628486\n",
            "\n",
            "Eficiencia = 0.232255\n"
          ]
        }
      ]
    },
    {
      "cell_type": "markdown",
      "source": [
        "# CONCLUSIONES\n",
        "\n",
        "1. **Comparación de estimaciones:**  \n",
        "   Ambos métodos (Monte Carlo Crudo y Acierto y Error) proporcionan estimaciones cercanas de la integral\n",
        "   $(\\int_0^1 \\sqrt{\\arctan(x)} \\space dx)$, lo que confirma que ambos son válidos para aproximar integrales definidas.\n",
        "\n",
        "2. **Varianza y desviación estándar:**  \n",
        "   El método Crudo generalmente presenta **menor varianza y desviación estándar** que el método de Acierto y Error\n",
        "   para el mismo tamaño de muestra, lo que lo hace más preciso en este caso.\n",
        "\n",
        "3. **Tiempo de cómputo:**  \n",
        "   Ambos métodos son rápidos para \\(N = 10^5\\), aunque el método Crudo suele ser ligeramente más eficiente en tiempo\n",
        "   porque requiere menos operaciones (solo evaluar la función).\n",
        "\n",
        "4. **Eficiencia:**  \n",
        "   Al calcular la eficiencia $(E = \\frac{t_1 \\cdot \\mathrm{Var}(\\theta_1)}{t_2 \\cdot \\mathrm{Var}(\\theta_2)})$\n",
        "   podemos cuantificar la ventaja relativa de un método sobre otro. Un valor de $(E>1)$ indica que el método\n",
        "   Acierto y Error es menos eficiente que el método Crudo en términos de varianza por tiempo.\n",
        "\n",
        "5. **Consideraciones generales:**  \n",
        "   - El método Crudo es más recomendable cuando se puede evaluar la función directamente y el dominio es acotado.  \n",
        "   - El método Acierto y Error es útil cuando se quiere **visualizar la integral geométricamente** o cuando la función\n",
        "     es difícil de promediar directamente, aunque generalmente requiere más muestras para lograr la misma precisión.\n"
      ],
      "metadata": {
        "id": "Agc8J804Ajoy"
      }
    }
  ]
}
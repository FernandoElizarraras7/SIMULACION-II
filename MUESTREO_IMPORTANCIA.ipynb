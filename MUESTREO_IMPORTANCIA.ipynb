{
  "nbformat": 4,
  "nbformat_minor": 0,
  "metadata": {
    "colab": {
      "provenance": [],
      "authorship_tag": "ABX9TyNw7tkd5i78Jfxs8AK06vYq",
      "include_colab_link": true
    },
    "kernelspec": {
      "name": "python3",
      "display_name": "Python 3"
    },
    "language_info": {
      "name": "python"
    }
  },
  "cells": [
    {
      "cell_type": "markdown",
      "metadata": {
        "id": "view-in-github",
        "colab_type": "text"
      },
      "source": [
        "<a href=\"https://colab.research.google.com/github/FernandoElizarraras7/SIMULACION-II/blob/main/MUESTREO_IMPORTANCIA.ipynb\" target=\"_parent\"><img src=\"https://colab.research.google.com/assets/colab-badge.svg\" alt=\"Open In Colab\"/></a>"
      ]
    },
    {
      "cell_type": "markdown",
      "source": [
        "# MUESTREO DE IMPORTANCIA\n",
        "Es una técnica de reducción de varianza que mejora la precisión de las estimaciones de Monte Carlo. Su objetivo principal es mejorar la precisión de la estimación al concentrar más muestras en las zonas donde la función que queremos integrar tiene mayor peso.\n",
        "\n",
        "En lugar de generar muestras de una distribución uniforme, se utiliza una distribución auxiliar $g(x)$ que se asemeje a la forma de la función $f(x)$ que se desea integrar.\n",
        "\n",
        "Suponga que queremos estimar una integral del tipo:\n",
        "$$I= \\int_{a}^{b}f(x)dx$$\n",
        "Si usamos Monte Carlo crudo, generamos $x_i \\sim U(a,b)$ (uniformes) y estimamos:\n",
        "$$I ≈ (b-a) \\frac{1}{N} \\sum_{i=1}^{N} f(x_i)$$\n",
        "Sin embargo, esto puede tener una varianza alta si $f(x)$ varía mucho.\n",
        "El muestreo de importancia propone usar una distribución diferente $g(x)$ que se parezca más a la forma de $f(x)$, y reescribir la integral como:\n",
        "$$I= \\int_{a}^{b} \\frac{f(x)}{g(x)} g(x)dx = E_g \\left [ \\frac{f(x)}{g(x)}  \\right ]$$\n",
        "donde $x_i \\sim g(x)$.\n",
        "Así, la estimación de Monte Carlo se convierte en:\n",
        "$$I_{IS} = \\frac{1}{N} \\sum_{i=1}^{N} \\frac{f(x_i)}{g(x_i)}$$\n",
        "\n",
        "### VENTAJAS\n",
        "*   Si $g(x)$ se elige de modo que sea proporcional a $f(x)$, la varianza del estimador disminuye notablemente.\n",
        "*   Esto se debe a que las muestras se concentran en las regiones donde $f(x)$ contribuye más a la integral.\n",
        "*   En la práctica, $g(x)$ debe cumplir:\n",
        "    1.   $g(x) > 0$ cuando $f(x) \\neq 0$\n",
        "    2.   $\\int g(x) dx = 1$\n",
        "\n",
        "\n",
        "\n",
        "\n",
        "\n",
        "\n",
        "\n",
        "\n",
        "\n",
        "\n"
      ],
      "metadata": {
        "id": "729yImJ58X4S"
      }
    },
    {
      "cell_type": "code",
      "source": [
        "import numpy as np\n",
        "import time\n",
        "\n",
        "# Función objetivo f(x)\n",
        "def f(x):\n",
        "  return np.cos(np.pi * x / 2)\n",
        "\n",
        "# Función de densidad g(x)\n",
        "def g(x):\n",
        "  return (24 / (24 - np.pi**2)) * (1-(np.pi**2 * x**2) / 8)\n",
        "\n",
        "# Número de muestras\n",
        "N = 10**5\n",
        "\n",
        "# === Monte Carlo Crudo ===\n",
        "t1_start = time.time()\n",
        "\n",
        "x_crudo = np.random.rand(N)  # Muestras en [0,1]\n",
        "fx = f(x_crudo)  # Se evalúa en f(x)\n",
        "I_crudo = np.mean(fx)  # Estimador de la integral\n",
        "Var_crudo = np.var(fx, ddof=1) / N  # Varianza del estimador\n",
        "\n",
        "t1_end = time.time()\n",
        "t_crudo = t1_end - t1_start\n",
        "\n",
        "print(\"=== Método Crudo ===\")\n",
        "print(f\"Estimación Integral = {I_crudo:.6f}\")\n",
        "print(f\"Varianza = {Var_crudo:.6e}\")\n",
        "print()\n",
        "\n",
        "# === Muestreo de importancia ===\n",
        "t2_start = time.time()\n",
        "\n",
        "# Se van a generar muestras de x ~ g(x)\n",
        "# Se usa el método de aceptación-rechazo para generar muestras según g(x)\n",
        "# Ya que g(x) no tiene una inversa simple\n",
        "\n",
        "# Máximo de g(x) en [0,1] (para aceptación-rechazo)\n",
        "x_grid = np.linspace(0, 1, 10000)\n",
        "g_max = np.max(g(x_grid))\n",
        "\n",
        "samples = []\n",
        "while len(samples) < N:\n",
        "    x_try = np.random.rand(N) # Candidatos uniformes\n",
        "    y_try = np.random.rand(N) * g_max # Valores en [0, g_max]\n",
        "    mask = y_try <= g(x_try) # Aceptación-rechazo\n",
        "    accepted = x_try[mask]\n",
        "    samples.extend(accepted.tolist())\n",
        "\n",
        "x_imp = np.array(samples[:N]) # Se toman N muestras\n",
        "\n",
        "# Se evaluan f y g\n",
        "fx = f(x_imp)\n",
        "gx = g(x_imp)\n",
        "\n",
        "# Estimador del muestreo de importancia\n",
        "ponderaciones = fx / gx\n",
        "I_imp = np.mean(ponderaciones)\n",
        "Var_imp = np.var(ponderaciones, ddof=1) / N\n",
        "\n",
        "t2_end = time.time()\n",
        "t_imp = t2_end - t2_start\n",
        "\n",
        "print(\"=== Método de Muestreo de Importancia ===\")\n",
        "print(f\"Estimación Integral = {I_imp:.6f}\")\n",
        "print(f\"Varianza = {Var_imp:.6e}\")\n",
        "print()\n",
        "\n",
        "# === Comparacion ===\n",
        "reduction_pct = 100 * (Var_crudo - Var_imp) / Var_crudo\n",
        "print(\"=== Comparación ===\")\n",
        "print(f\"Reducción relativa de varianza = {reduction_pct:.2f}%\")"
      ],
      "metadata": {
        "colab": {
          "base_uri": "https://localhost:8080/"
        },
        "id": "lxR9oPFJDGqS",
        "outputId": "31354dff-6ae6-4a35-faf5-f14608e7e798"
      },
      "execution_count": 1,
      "outputs": [
        {
          "output_type": "stream",
          "name": "stdout",
          "text": [
            "=== Método Crudo ===\n",
            "Estimación Integral = 0.636575\n",
            "Varianza = 9.443408e-07\n",
            "\n",
            "=== Método de Muestreo de Importancia ===\n",
            "Estimación Integral = 0.615987\n",
            "Varianza = 2.057428e-07\n",
            "\n",
            "=== Comparación ===\n",
            "Reducción relativa de varianza = 78.21%\n"
          ]
        }
      ]
    },
    {
      "cell_type": "markdown",
      "source": [
        "## CONCLUSIONES\n",
        "*   El método de muestreo de importancia permitió una reducción significativa de la varianza del estimador (78.21%), lo que se traduce en estimaciones más precisas sin necesidad de incrementar el número de simulaciones.\n",
        "*   La elección adecuada de la distribución de importancia es clave; al enfocar la simulación en las regiones que más contribuyen al valor esperado, se mejora la eficiencia del método.\n",
        "*   Comparado con el Monte Carlo estándar, el muestreo de importancia demuestra ser una técnica muy eficaz para problemas donde algunas regiones del dominio dominan el resultado, optimizando tiempo de cómputo y recursos.\n",
        "*   Estos resultados confirman que el muestreo de importancia es una herramienta poderosa para la integración numérica y estimaciones bajo incertidumbre, especialmente en funciones con alta variabilidad en ciertas regiones del dominio.\n",
        "\n",
        "\n",
        "\n"
      ],
      "metadata": {
        "id": "mtj3CNOPNWqV"
      }
    }
  ]
}
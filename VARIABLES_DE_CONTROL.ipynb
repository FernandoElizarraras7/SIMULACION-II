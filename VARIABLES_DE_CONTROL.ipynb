{
  "nbformat": 4,
  "nbformat_minor": 0,
  "metadata": {
    "colab": {
      "provenance": [],
      "authorship_tag": "ABX9TyP5ACl56mi92B5Q1GFGaxOM",
      "include_colab_link": true
    },
    "kernelspec": {
      "name": "python3",
      "display_name": "Python 3"
    },
    "language_info": {
      "name": "python"
    }
  },
  "cells": [
    {
      "cell_type": "markdown",
      "metadata": {
        "id": "view-in-github",
        "colab_type": "text"
      },
      "source": [
        "<a href=\"https://colab.research.google.com/github/FernandoElizarraras7/SIMULACION-II/blob/main/VARIABLES_DE_CONTROL.ipynb\" target=\"_parent\"><img src=\"https://colab.research.google.com/assets/colab-badge.svg\" alt=\"Open In Colab\"/></a>"
      ]
    },
    {
      "cell_type": "markdown",
      "source": [
        "# VARIABLES DE CONTROL\n",
        "\n",
        "El método de Variables de Control es una técnica de reducción de varianza utilizada en simulaciones de Monte Carlo.\n",
        "Se basa en aprovechar una variable auxiliar $Y$ que:\n",
        "\n",
        "*   Está correlacionada con la variable de interés $X=f(U)$.\n",
        "*   Tiene un valor esperado conocido $E[Y]$.\n",
        "\n",
        "\n",
        "Si $X$ y $Y$ están positivamente correlacionadas, es posible disminuir las fluctuaciones del estimador de la integral al restar una fracción del término\n",
        "$Y-E[Y]$, que tiene media cero pero se comporta similar a $X$.\n",
        "\n",
        "El nuevo estimador se define como:\n",
        "$$I_{VC} = \\overline{X}-b^*(\\overline{Y}-E[Y])$$\n",
        "donde:\n",
        "$$b^* = \\frac{Cov(X, Y)}{Var(Y)}$$\n",
        "Este valor $b^*$ es el coeficiente óptimo que minimiza la varianza del estimador.\n",
        "\n",
        "La ventaja principal es que, si $Y$ y $X$ están bien correlacionadas, el término de corrección $b^*(Y-E[Y])$ cancela parte del ruido estadístico de $X$, reduciendo significativamente la varianza sin aumentar el número de simulaciones."
      ],
      "metadata": {
        "id": "BCFxYPOndw7k"
      }
    },
    {
      "cell_type": "code",
      "source": [
        "# MC Crudo vs Variables de Control\n",
        "\n",
        "import numpy as np\n",
        "import time\n",
        "\n",
        "# Se define la función\n",
        "def f(x):\n",
        "  return 1 / (1 + x**2)\n",
        "\n",
        "# Número de muestras\n",
        "N = 10**5\n",
        "\n",
        "# === Monte Carlo Crudo ===\n",
        "t1_start = time.time()\n",
        "\n",
        "U = np.random.rand(N)  # Muestras en [0,1]\n",
        "X = f(U)  # Se evalúa en f(x)\n",
        "I_crudo = np.mean(X)  # Promedio\n",
        "Var_crudo = np.var(X, ddof=1) / N  # Varianza del estimador\n",
        "Std_crudo = np.sqrt(Var_crudo)  # Desviación estándar\n",
        "\n",
        "t1_end = time.time()\n",
        "t1 = t1_end - t1_start\n",
        "\n",
        "print(\"=== Método Crudo ===\")\n",
        "print(f\"Estimación Integral = {I_crudo:.6f}\")\n",
        "print(f\"Varianza = {Var_crudo:.6e}\")\n",
        "print()\n",
        "\n",
        "# === Variables de Control ===\n",
        "t2_start = time.time()\n",
        "\n",
        "Y = U  # La variable de control es U porque Y = promedio de U_i y cada U_i ~ U(0,1)\n",
        "EY = 0.5  # Valor esperado de U(0,1)\n",
        "\n",
        "# Se calcula coeficiente óptimo b*\n",
        "cov_XY = np.cov(X, Y, ddof=1)[0, 1]\n",
        "var_Y = np.var(Y, ddof=1)\n",
        "b_opt = cov_XY / var_Y\n",
        "\n",
        "# Estimador con variable de control\n",
        "I_control = np.mean(X - b_opt * (Y - EY))\n",
        "Var_control = np.var(X - b_opt * (Y - EY), ddof=1) / N\n",
        "Std_control = np.sqrt(Var_control)\n",
        "\n",
        "t2_end = time.time()\n",
        "t2 = t2_end - t2_start\n",
        "\n",
        "print(\"=== Método Variables de Control ===\")\n",
        "print(f\"Estimación Integral = {I_control:.6f}\")\n",
        "print(f\"Coeficiente b* = {b_opt:.6f}\")\n",
        "print(f\"Varianza = {Var_control:.6e}\")\n",
        "print()\n",
        "\n",
        "# === Reducción de la Varianza ===\n",
        "reducción = (1 - Var_control / Var_crudo) * 100\n",
        "print(\"=== Reducción de la Varianza ===\")\n",
        "print(f\"Reducción de la Varianza = {reducción:.2f}%\")\n"
      ],
      "metadata": {
        "colab": {
          "base_uri": "https://localhost:8080/"
        },
        "id": "G8CiLdsQd0q3",
        "outputId": "6cf4d1d7-d839-4cc8-bf05-24413f2db47e"
      },
      "execution_count": 15,
      "outputs": [
        {
          "output_type": "stream",
          "name": "stdout",
          "text": [
            "=== Método Crudo ===\n",
            "Estimación Integral = 0.785104\n",
            "Varianza = 2.575793e-07\n",
            "\n",
            "=== Método Variables de Control ===\n",
            "Estimación Integral = 0.785492\n",
            "Coeficiente b* = -0.553842\n",
            "Varianza = 3.162219e-09\n",
            "\n",
            "=== Reducción de la Varianza ===\n",
            "Reducción de la Varianza = 98.77%\n"
          ]
        }
      ]
    },
    {
      "cell_type": "markdown",
      "source": [
        "## CONCLUSIONES\n",
        "\n",
        "*   La técnica de Variables de Control aprovecha la correlación entre la variable de interés $f(U)$ y una variable auxiliar $Y$ con valor esperado conocido, para reducir la varianza del estimador sin incrementar el número de simulaciones.\n",
        "*   En términos prácticos, el estimador con variables de control logra mayor precisión con la misma cantidad de muestras, o la misma precisión con muchas menos simulaciones, incrementando notablemente la eficiencia del método Monte Carlo.\n",
        "*   En este caso, al elegir $Y=U$ y $E[Y]=0.5$, se obtuvo una reducción relativa de varianza del 98.77 %, lo que demuestra una altísima eficiencia del método.\n",
        "*   La reducción se debe a la relación inversa entre $f(U)$ y $U$; cuando $U$ aumenta, $f(U)$ disminuye, lo que genera una fuerte correlación aprovechada por el término correctivo del estimador.\n",
        "*   La técnica es especialmente útil cuando se dispone de una buena variable auxiliar con media conocida y correlación significativa con la función integrando.\n",
        "\n",
        "\n",
        "\n",
        "\n",
        "\n"
      ],
      "metadata": {
        "id": "LezbfSOgld54"
      }
    }
  ]
}